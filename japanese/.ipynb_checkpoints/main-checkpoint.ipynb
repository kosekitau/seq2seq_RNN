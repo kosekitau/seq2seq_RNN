{
 "cells": [
  {
   "cell_type": "code",
   "execution_count": 1,
   "metadata": {},
   "outputs": [],
   "source": [
    "import string\n",
    "import re\n",
    "import random\n",
    "import gensim\n",
    "import torch\n",
    "import torch.nn as nn\n",
    "from torch import optim\n",
    "import torch.nn.functional as F"
   ]
  },
  {
   "cell_type": "code",
   "execution_count": 3,
   "metadata": {},
   "outputs": [],
   "source": [
    "#/Users/kosekitomohiro/Downloads/entity_vector\n",
    "model_dir = '/Users/kosekitomohiro/Downloads/entity_vector/entity_vector.model.bin'\n",
    "model = gensim.models.KeyedVectors.load_word2vec_format(model_dir, binary=True)\n",
    "embedding_vector = torch.from_numpy(model.vectors)"
   ]
  },
  {
   "cell_type": "code",
   "execution_count": 4,
   "metadata": {},
   "outputs": [],
   "source": [
    "SOS_token = 0 #start of string\n",
    "EOS_token = 1\n",
    "hidden_size = 256\n",
    "MAX_LENGTH = 30 #文章の最大単語数(句読点を含む)"
   ]
  },
  {
   "cell_type": "code",
   "execution_count": 5,
   "metadata": {},
   "outputs": [],
   "source": [
    "class EncoderRNN(nn.Module):\n",
    "    def __init__(self, input_size, hidden_size, text_embedding_vectors, dropout_p):\n",
    "        super(EncoderRNN, self).__init__()\n",
    "        self.hidden_size = hidden_size\n",
    "        # input_size：辞書の単語種類数、 hidden_size：分散表現の次元数\n",
    "        self.embedding = nn.Embedding.from_pretrained(\n",
    "        embeddings=text_embedding_vectors, freeze=True)\n",
    "        self.emb_dim = text_embedding_vectors.shape[1]\n",
    "\n",
    "        #層を増やす実験\n",
    "        #self.gru1 = nn.GRU(text_embedding_vectors.shape[1], hidden_size)\n",
    "        self.lstm = nn.LSTM(text_embedding_vectors.shape[1],\n",
    "                            hidden_size, dropout=dropout_p) #[200, 256]\n",
    "\n",
    "    def forward(self, input, hidden):\n",
    "        embedded = self.embedding(input).view(1, 1, -1)\n",
    "        output = embedded\n",
    "        output, hidden = self.lstm(output, hidden)\n",
    "        #output, hidden2 = self.gru2(output, hidden2)\n",
    "        #出力と隠れ状態\n",
    "        return output, hidden\n",
    "\n",
    "    def initHidden(self):\n",
    "        return (torch.zeros(1, 1, self.hidden_size, device=device),\n",
    "                torch.zeros(1, 1, self.hidden_size, device=device))\n",
    "    \n",
    "    \n",
    "    \n",
    "class AttnDecoderRNN(nn.Module):\n",
    "    def __init__(self, hidden_size, text_embedding_vectors, output_size, dropout_p=0.1, max_length=MAX_LENGTH):\n",
    "        super(AttnDecoderRNN, self).__init__()\n",
    "        self.hidden_size = hidden_size\n",
    "        self.embedding = nn.Embedding.from_pretrained(embeddings=text_embedding_vectors, freeze=True)\n",
    "        self.output_size = output_size\n",
    "        self.dropout_p = dropout_p\n",
    "        self.max_length = max_length\n",
    "        self.attn = nn.Linear(self.hidden_size + text_embedding_vectors.shape[1], self.max_length)\n",
    "        self.attn_combine = nn.Linear(self.hidden_size + text_embedding_vectors.shape[1], self.hidden_size)\n",
    "        self.dropout = nn.Dropout(self.dropout_p)\n",
    "        #self.gru1 = nn.GRU(self.hidden_size, self.hidden_size)\n",
    "        self.lstm = nn.LSTM(self.hidden_size, self.hidden_size, dropout=dropout_p)\n",
    "        self.out = nn.Linear(self.hidden_size, self.output_size)\n",
    "\n",
    "    def forward(self, input, hidden, encoder_outputs):\n",
    "        #input:[1], hidden:[1,1,256], encoder_outputs:[10,256]\n",
    "        embedded = self.embedding(input).view(1, 1, -1) #[1, 1, 256]\n",
    "        embedded = self.dropout(embedded)\n",
    "\n",
    "        #加法注意によりattention_weightを求める。\n",
    "        attn_weights = F.softmax(\n",
    "            self.attn(torch.cat((embedded[0], hidden[0][0]), 1)), dim=1)\n",
    "\n",
    "        #weightとエンコーダのアウトプットを用いる\n",
    "        #bmmは各バッチごとに内積を出せる\n",
    "        attn_applied = torch.bmm(attn_weights.unsqueeze(0),\n",
    "                                 encoder_outputs.unsqueeze(0))\n",
    "\n",
    "        output = torch.cat((embedded[0], attn_applied[0]), 1) #[1, 512]\n",
    "        output = self.attn_combine(output).unsqueeze(0) #[1, 1, 256]\n",
    "\n",
    "        output = F.relu(output) #[1, 1, 256]\n",
    "        output, hidden = self.lstm(output, hidden) #[1, 1, 256], ([1, 1, 256], [1, 1, 256])\n",
    "\n",
    "        output = F.log_softmax(self.out(output[0]), dim=1)\n",
    "        return output, hidden, attn_weights\n",
    "\n",
    "    def initHidden(self):\n",
    "        return (torch.zeros(1, 1, self.hidden_size, device=device),\n",
    "                torch.zeros(1, 1, self.hidden_size, device=device))"
   ]
  },
  {
   "cell_type": "code",
   "execution_count": 12,
   "metadata": {},
   "outputs": [],
   "source": [
    "import pickle\n",
    "# index→sentence \n",
    "input_lang_index2word = pickle.load(open('/Users/kosekitomohiro/Downloads/model/input_lang_index2word0517.pkl', 'rb'))\n",
    "input_lang_word2index = pickle.load(open('/Users/kosekitomohiro/Downloads/model/input_lang_word2index0517.pkl', 'rb'))\n",
    "output_lang_index2word = pickle.load(open('/Users/kosekitomohiro/Downloads/model/output_lang_index2word0517.pkl', 'rb'))\n",
    "output_lang_word2index = pickle.load(open('/Users/kosekitomohiro/Downloads/model/output_lang_word2index0517.pkl', 'rb'))"
   ]
  },
  {
   "cell_type": "code",
   "execution_count": 56,
   "metadata": {},
   "outputs": [
    {
     "data": {
      "text/plain": [
       "AttnDecoderRNN(\n",
       "  (embedding): Embedding(1015474, 200)\n",
       "  (attn): Linear(in_features=456, out_features=30, bias=True)\n",
       "  (attn_combine): Linear(in_features=456, out_features=256, bias=True)\n",
       "  (dropout): Dropout(p=0.1, inplace=False)\n",
       "  (lstm): LSTM(256, 256, dropout=0.1)\n",
       "  (out): Linear(in_features=256, out_features=6484, bias=True)\n",
       ")"
      ]
     },
     "execution_count": 56,
     "metadata": {},
     "output_type": "execute_result"
    }
   ],
   "source": [
    "#model_path = '/Users/kosekitomohiro/Downloads/model/encoder0517.pth'\n",
    "encoder1 = EncoderRNN(len(input_lang_index2word ), hidden_size,\n",
    "                      embedding_vector, dropout_p=0.1)\n",
    "encoder1.load_state_dict(torch.load(\n",
    "    '/Users/kosekitomohiro/Downloads/model/encoder0517.pth')) #モデルにパラメータを当てはめる\n",
    "encoder1.eval()\n",
    "\n",
    "attn_decoder1 = AttnDecoderRNN(hidden_size,  embedding_vector,\n",
    "                               len(output_lang_index2word), dropout_p=0.1).to(device)\n",
    "attn_decoder1.load_state_dict(torch.load(\n",
    "    '/Users/kosekitomohiro/Downloads/model/decoder0517.pth')) #モデルにパラメータを当てはめる\n",
    "attn_decoder1.eval()"
   ]
  },
  {
   "cell_type": "code",
   "execution_count": 39,
   "metadata": {},
   "outputs": [
    {
     "data": {
      "text/plain": [
       "'です の 耐える に 退屈'"
      ]
     },
     "execution_count": 39,
     "metadata": {},
     "output_type": "execute_result"
    }
   ],
   "source": [
    "import MeCab\n",
    "\n",
    "mecab = MeCab.Tagger('-Owakati')\n",
    "def normalizeString(s):\n",
    "    #s = unicodeToAscii(s.lower().strip())\n",
    "    s = re.sub('\\r', '', s)\n",
    "    s = re.sub('\\n', '', s)\n",
    "    s = re.sub(' ', ' ', s)\n",
    "    s = mecab.parse(s)[:-2] #分かち書き\n",
    "    #入力データを反転させる\n",
    "    s = ' '.join(s.split(' ')[::-1])\n",
    "    return s #sentence\n",
    "normalizeString('退屈に耐えるのです')"
   ]
  },
  {
   "cell_type": "code",
   "execution_count": 22,
   "metadata": {},
   "outputs": [],
   "source": [
    "def indexesFromSentence(input_lang, sentence):\n",
    "    #各文を単語indexのならびに\n",
    "    return [input_lang[word] for word in sentence.split()]\n",
    "\n",
    "\n",
    "def tensorFromSentence(input_lang, sentence):\n",
    "    indexes = indexesFromSentence(input_lang, sentence)\n",
    "    indexes.append(EOS_token)\n",
    "    return torch.tensor(indexes, dtype=torch.long).view(-1, 1) #[[2], [25], [9]....]の形に\n",
    "\n",
    "\n",
    "def tensorsFromPair(input_lang, sentence):\n",
    "    #pairは各文(0がフランス)\n",
    "    input_tensor = tensorFromSentence(input_lang, sentence)\n",
    "    #target_tensor = tensorFromSentence(output_lang, pair[1])\n",
    "    return input_tensor"
   ]
  },
  {
   "cell_type": "code",
   "execution_count": 29,
   "metadata": {},
   "outputs": [],
   "source": [
    "def evaluate(encoder, decoder, sentence, max_length=MAX_LENGTH):\n",
    "    with torch.no_grad():\n",
    "        input_tensor = tensorFromSentence(input_lang_word2index, sentence)\n",
    "        print(input_tensor)\n",
    "        input_length = input_tensor.size()[0]\n",
    "        encoder_hidden = encoder.initHidden()\n",
    "\n",
    "        encoder_outputs = torch.zeros(max_length, encoder.hidden_size, device=device)\n",
    "\n",
    "        for ei in range(input_length):\n",
    "            encoder_output, encoder_hidden = encoder(input_tensor[ei],\n",
    "                                                     encoder_hidden)\n",
    "            encoder_outputs[ei] += encoder_output[0, 0]\n",
    "\n",
    "        decoder_input = torch.tensor([[SOS_token]])  # SOS\n",
    "\n",
    "        decoder_hidden = encoder_hidden\n",
    "\n",
    "        decoded_words = []\n",
    "        decoder_attentions = torch.zeros(max_length, max_length)\n",
    "\n",
    "        for di in range(max_length):\n",
    "            decoder_output, decoder_hidden, decoder_attention = decoder(\n",
    "                decoder_input, decoder_hidden, encoder_outputs)\n",
    "            decoder_attentions[di] = decoder_attention.data\n",
    "            topv, topi = decoder_output.data.topk(1)\n",
    "            if topi.item() == EOS_token:\n",
    "                decoded_words.append('<eos>')\n",
    "                break\n",
    "            else:\n",
    "                decoded_words.append(output_lang_index2word[topi.item()])\n",
    "\n",
    "            decoder_input = topi.squeeze().detach()\n",
    "\n",
    "        return decoded_words, decoder_attentions[:di + 1]"
   ]
  },
  {
   "cell_type": "code",
   "execution_count": 69,
   "metadata": {},
   "outputs": [
    {
     "name": "stdout",
     "output_type": "stream",
     "text": [
      "tensor([[298],\n",
      "        [  1]])\n",
      "こんにちは。声かけてくれるのを待ってたんだ。<eos>\n"
     ]
    }
   ],
   "source": [
    "decoded_words, decoder_attentions = evaluate(encoder1, attn_decoder1, normalizeString('こんにちは'), max_length=MAX_LENGTH)\n",
    "print(''.join(decoded_words))"
   ]
  },
  {
   "cell_type": "code",
   "execution_count": null,
   "metadata": {},
   "outputs": [],
   "source": []
  }
 ],
 "metadata": {
  "kernelspec": {
   "display_name": "Python 3",
   "language": "python",
   "name": "python3"
  },
  "language_info": {
   "codemirror_mode": {
    "name": "ipython",
    "version": 3
   },
   "file_extension": ".py",
   "mimetype": "text/x-python",
   "name": "python",
   "nbconvert_exporter": "python",
   "pygments_lexer": "ipython3",
   "version": "3.7.3"
  }
 },
 "nbformat": 4,
 "nbformat_minor": 2
}
