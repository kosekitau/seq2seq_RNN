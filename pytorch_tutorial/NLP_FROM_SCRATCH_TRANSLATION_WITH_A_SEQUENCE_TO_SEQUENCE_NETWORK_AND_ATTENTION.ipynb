{
  "nbformat": 4,
  "nbformat_minor": 0,
  "metadata": {
    "colab": {
      "name": "NLP FROM SCRATCH: TRANSLATION WITH A SEQUENCE TO SEQUENCE NETWORK AND ATTENTION.ipynb",
      "provenance": [],
      "collapsed_sections": []
    },
    "kernelspec": {
      "name": "python3",
      "display_name": "Python 3"
    },
    "accelerator": "GPU"
  },
  "cells": [
    {
      "cell_type": "code",
      "metadata": {
        "id": "WipweOZgFXTU",
        "colab_type": "code",
        "colab": {}
      },
      "source": [
        "from __future__ import unicode_literals, print_function, division\n",
        "from io import open\n",
        "import unicodedata\n",
        "import string\n",
        "import re\n",
        "import random\n",
        " \n",
        "import torch\n",
        "import torch.nn as nn\n",
        "from torch import optim\n",
        "import torch.nn.functional as F\n",
        " \n",
        "device = torch.device(\"cuda\" if torch.cuda.is_available() else \"cpu\")"
      ],
      "execution_count": 0,
      "outputs": []
    },
    {
      "cell_type": "code",
      "metadata": {
        "id": "12a1VFbjGPQ_",
        "colab_type": "code",
        "colab": {}
      },
      "source": [
        "SOS_token = 0 #start of string\n",
        "EOS_token = 1\n",
        " \n",
        " \n",
        "class Lang:\n",
        "    def __init__(self, name):\n",
        "        self.name = name\n",
        "        self.word2index = {}\n",
        "        self.word2count = {} #単語の頻度\n",
        "        self.index2word = {0: \"SOS\", 1: \"EOS\"}\n",
        "        self.n_words = 2  # 辞書に登録してある単語の種類\n",
        " \n",
        "    def addSentence(self, sentence):\n",
        "        for word in sentence.split(' '):\n",
        "            self.addWord(word)\n",
        " \n",
        "    def addWord(self, word):\n",
        "        if word not in self.word2index:\n",
        "            self.word2index[word] = self.n_words\n",
        "            self.word2count[word] = 1\n",
        "            self.index2word[self.n_words] = word\n",
        "            self.n_words += 1\n",
        "        else:\n",
        "            self.word2count[word] += 1"
      ],
      "execution_count": 0,
      "outputs": []
    },
    {
      "cell_type": "code",
      "metadata": {
        "id": "B4rTZ5vLIAxh",
        "colab_type": "code",
        "colab": {}
      },
      "source": [
        "# Turn a Unicode string to plain ASCII, thanks to\n",
        "# https://stackoverflow.com/a/518232/2809427\n",
        "def unicodeToAscii(s):\n",
        "    return ''.join(\n",
        "        c for c in unicodedata.normalize('NFD', s)\n",
        "        if unicodedata.category(c) != 'Mn'\n",
        "    )\n",
        " \n",
        "# Lowercase, trim, and remove non-letter characters\n",
        " \n",
        "#テキストの前処理\n",
        "def normalizeString(s):\n",
        "    s = unicodeToAscii(s.lower().strip())\n",
        "    s = re.sub(r\"([.!?])\", r\" \\1\", s)\n",
        "    s = re.sub(r\"[^a-zA-Z.!?]+\", r\" \", s)\n",
        "    return s #sentence"
      ],
      "execution_count": 0,
      "outputs": []
    },
    {
      "cell_type": "code",
      "metadata": {
        "id": "6C3X0hSOIEKl",
        "colab_type": "code",
        "colab": {}
      },
      "source": [
        "def readLangs(lang1, lang2, reverse=False):\n",
        "    print(\"Reading lines...\")\n",
        " \n",
        "    # lang1, lang2は言語の洗濯(lang1が英語、lang2がフランス)\n",
        "    lines = open('drive/My Drive/dataset/eng2fre/%s-%s.txt' % (lang1, lang2), encoding='utf-8').\\\n",
        "        read().strip().split('\\n')\n",
        " \n",
        "    # l = 'eng ¥t french'\n",
        "    # lに対してユニコードや正規化の処理\n",
        "    pairs = [[normalizeString(s) for s in l.split('\\t')] for l in lines]\n",
        " \n",
        "    # 言語の翻訳の順番を変えるだけ\n",
        "    if reverse:\n",
        "        pairs = [list(reversed(p)) for p in pairs]\n",
        "        input_lang = Lang(lang2)\n",
        "        output_lang = Lang(lang1)\n",
        "    else:\n",
        "        #初期化\n",
        "        input_lang = Lang(lang1)\n",
        "        output_lang = Lang(lang2)\n",
        " \n",
        "    return input_lang, output_lang, pairs"
      ],
      "execution_count": 0,
      "outputs": []
    },
    {
      "cell_type": "code",
      "metadata": {
        "id": "VK9CagVKNB4n",
        "colab_type": "code",
        "colab": {}
      },
      "source": [
        "MAX_LENGTH = 10 #最大単語数(句読点を含む)\n",
        " \n",
        "#この文章から始まるデータに限定する\n",
        "eng_prefixes = (\n",
        "    \"i am \", \"i m \",\n",
        "    \"he is\", \"he s \",\n",
        "    \"she is\", \"she s \",\n",
        "    \"you are\", \"you re \",\n",
        "    \"we are\", \"we re \",\n",
        "    \"they are\", \"they re \"\n",
        ")\n",
        " \n",
        "#上記2つの条件を満たすデータのみを抽出 \n",
        "def filterPair(p):\n",
        "    return len(p[0].split(' ')) < MAX_LENGTH and \\\n",
        "        len(p[1].split(' ')) < MAX_LENGTH and \\\n",
        "        p[1].startswith(eng_prefixes)\n",
        " \n",
        " \n",
        "def filterPairs(pairs):\n",
        "    return [pair for pair in pairs if filterPair(pair)]"
      ],
      "execution_count": 0,
      "outputs": []
    },
    {
      "cell_type": "code",
      "metadata": {
        "id": "0gKzQpiKNvuY",
        "colab_type": "code",
        "outputId": "da5851f3-15e9-4e7b-aa0c-64d5696a01c1",
        "colab": {
          "base_uri": "https://localhost:8080/",
          "height": 34
        }
      },
      "source": [
        "filterPair('i am God')"
      ],
      "execution_count": 97,
      "outputs": [
        {
          "output_type": "execute_result",
          "data": {
            "text/plain": [
              "False"
            ]
          },
          "metadata": {
            "tags": []
          },
          "execution_count": 97
        }
      ]
    },
    {
      "cell_type": "code",
      "metadata": {
        "id": "LEyD-FCUN0cZ",
        "colab_type": "code",
        "outputId": "593c35d9-4206-4bb0-b3b7-515bce1d31f0",
        "colab": {
          "base_uri": "https://localhost:8080/",
          "height": 170
        }
      },
      "source": [
        "def prepareData(lang1, lang2, reverse=False):\n",
        "    #テキストファイルを読んで行に分割し、行をペアに分割する\n",
        "    input_lang, output_lang, pairs = readLangs(lang1, lang2, reverse) \n",
        "    print(\"Read %s sentence pairs\" % len(pairs))\n",
        "    #データの選別\n",
        "    pairs = filterPairs(pairs)\n",
        "    print(\"Trimmed to %s sentence pairs\" % len(pairs))\n",
        "    print(\"Counting words...\")\n",
        "    #単語の辞書を作る\n",
        "    for pair in pairs:\n",
        "        input_lang.addSentence(pair[0]) #英語の1文\n",
        "        output_lang.addSentence(pair[1]) #フランス語の一文\n",
        "    print(\"Counted words:\")\n",
        "    print(input_lang.name, input_lang.n_words)\n",
        "    print(output_lang.name, output_lang.n_words)\n",
        "    return input_lang, output_lang, pairs\n",
        " \n",
        " \n",
        "input_lang, output_lang, pairs = prepareData('eng', 'fra', True)\n",
        "print(len(pairs)) #shape->[10599, 2]\n",
        "print(random.choice(pairs))"
      ],
      "execution_count": 98,
      "outputs": [
        {
          "output_type": "stream",
          "text": [
            "Reading lines...\n",
            "Read 135842 sentence pairs\n",
            "Trimmed to 10599 sentence pairs\n",
            "Counting words...\n",
            "Counted words:\n",
            "fra 4345\n",
            "eng 2803\n",
            "10599\n",
            "['nous sommes en train de danser .', 'we re dancing .']\n"
          ],
          "name": "stdout"
        }
      ]
    },
    {
      "cell_type": "code",
      "metadata": {
        "id": "AoThn3nbU72Y",
        "colab_type": "code",
        "outputId": "74ec12f6-a1d0-4f9a-d6fe-1badfcddeb63",
        "colab": {
          "base_uri": "https://localhost:8080/",
          "height": 68
        }
      },
      "source": [
        "print(pairs[0])\n",
        "print(pairs[0][0])\n",
        "print(pairs[0][1])"
      ],
      "execution_count": 99,
      "outputs": [
        {
          "output_type": "stream",
          "text": [
            "['j ai ans .', 'i m .']\n",
            "j ai ans .\n",
            "i m .\n"
          ],
          "name": "stdout"
        }
      ]
    },
    {
      "cell_type": "code",
      "metadata": {
        "id": "lfLCwYi0V9OX",
        "colab_type": "code",
        "colab": {}
      },
      "source": [
        "class EncoderRNN(nn.Module):\n",
        "    def __init__(self, input_size, hidden_size):\n",
        "        super(EncoderRNN, self).__init__()\n",
        "        self.hidden_size = hidden_size\n",
        "        # input_size：辞書の単語種類数、 hidden_size：分散表現の次元数\n",
        "        self.embedding = nn.Embedding(input_size, hidden_size)\n",
        "        #層を増やす実験\n",
        "        self.gru1 = nn.GRU(hidden_size, hidden_size)\n",
        "        self.gru2 = nn.GRU(hidden_size, hidden_size)\n",
        " \n",
        "    def forward(self, input, hidden1, hidden2):\n",
        "        embedded = self.embedding(input).view(1, 1, -1)\n",
        "        output = embedded\n",
        "        output, hidden1 = self.gru1(output, hidden1)\n",
        "        output, hidden2 = self.gru2(output, hidden2)\n",
        "        #出力と隠れ状態\n",
        "        return output, hidden1, hidden2\n",
        " \n",
        "    def initHidden(self):\n",
        "        return torch.zeros(1, 1, self.hidden_size, device=device)"
      ],
      "execution_count": 0,
      "outputs": []
    },
    {
      "cell_type": "code",
      "metadata": {
        "id": "L2kaXoc2q_RN",
        "colab_type": "code",
        "colab": {}
      },
      "source": [
        "class DecoderRNN(nn.Module):\n",
        "    def __init__(self, hidden_size, output_size):\n",
        "        super(DecoderRNN, self).__init__()\n",
        "        self.hidden_size = hidden_size\n",
        "\n",
        "        self.embedding = nn.Embedding(output_size, hidden_size)\n",
        "        self.gru1 = nn.GRU(hidden_size, hidden_size)\n",
        "        self.gru2 = nn.GRU(hidden_size, hidden_size)\n",
        "        self.out = nn.Linear(hidden_size, output_size)\n",
        "        self.softmax = nn.LogSoftmax(dim=1)\n",
        " \n",
        "    #hidedenはencoderの隠れ状態\n",
        "    def forward(self, input, hidden1, hidden2):\n",
        "        output = self.embedding(input).view(1, 1, -1)\n",
        "        output = F.relu(output)\n",
        "        output, hidden1 = self.gru(output, hidden1)\n",
        "        output, hidden2 = self.gru(output, hidden2)\n",
        "        output = self.softmax(self.out(output[0]))\n",
        "        return output, hidden2\n",
        " \n",
        "    def initHidden(self):\n",
        "        return torch.zeros(1, 1, self.hidden_size, device=device)"
      ],
      "execution_count": 0,
      "outputs": []
    },
    {
      "cell_type": "code",
      "metadata": {
        "id": "6bMU0nYOvzZu",
        "colab_type": "code",
        "colab": {}
      },
      "source": [
        "class AttnDecoderRNN(nn.Module):\n",
        "    def __init__(self, hidden_size, output_size, dropout_p=0.1, max_length=MAX_LENGTH):\n",
        "        super(AttnDecoderRNN, self).__init__()\n",
        "        self.hidden_size = hidden_size\n",
        "        self.output_size = output_size\n",
        "        self.dropout_p = dropout_p\n",
        "        self.max_length = max_length\n",
        " \n",
        "        self.embedding = nn.Embedding(self.output_size, self.hidden_size)\n",
        "        self.attn = nn.Linear(self.hidden_size * 2, self.max_length)\n",
        "        self.attn_combine = nn.Linear(self.hidden_size * 2, self.hidden_size)\n",
        "        self.dropout = nn.Dropout(self.dropout_p)\n",
        "        self.gru1 = nn.GRU(self.hidden_size, self.hidden_size)\n",
        "        self.gru2 = nn.GRU(self.hidden_size, self.hidden_size)\n",
        "        self.out = nn.Linear(self.hidden_size, self.output_size)\n",
        " \n",
        "    def forward(self, input, hidden1, hidden2, encoder_outputs):\n",
        "        #input:[1], hidden:[1,1,256], encoder_outputs:[10,256]\n",
        "        embedded = self.embedding(input).view(1, 1, -1) #[1, 1, 256]\n",
        "        embedded = self.dropout(embedded)\n",
        "        \n",
        "        #加法注意によりattention_weightを求める。\n",
        "        attn_weights = F.softmax(\n",
        "            self.attn(torch.cat((embedded[0], hidden1[0]), 1)), dim=1)\n",
        "        \n",
        "        #weightとエンコーダのアウトプットを用いる\n",
        "        #bmmは各バッチごとに内積を出せる\n",
        "        attn_applied = torch.bmm(attn_weights.unsqueeze(0),\n",
        "                                 encoder_outputs.unsqueeze(0))\n",
        " \n",
        "        output = torch.cat((embedded[0], attn_applied[0]), 1) #[1, 512]\n",
        "        output = self.attn_combine(output).unsqueeze(0) #[1, 1, 256]\n",
        " \n",
        "        output = F.relu(output) #[1, 1, 256]\n",
        "        output, hidden1 = self.gru1(output, hidden1) #[1, 1, 256], [1, 1, 256]\n",
        "        output, hidden2 = self.gru2(output, hidden2)\n",
        "        \n",
        "        output = F.log_softmax(self.out(output[0]), dim=1)\n",
        "        return output, hidden2, attn_weights\n",
        " \n",
        "    def initHidden(self):\n",
        "        return torch.zeros(1, 1, self.hidden_size, device=device)"
      ],
      "execution_count": 0,
      "outputs": []
    },
    {
      "cell_type": "code",
      "metadata": {
        "id": "9yaRLiL3Kjz3",
        "colab_type": "code",
        "colab": {}
      },
      "source": [
        "def indexesFromSentence(lang, sentence):\n",
        "    #各文を単語indexのならびに\n",
        "    return [lang.word2index[word] for word in sentence.split(' ')]\n",
        "\n",
        "\n",
        "def tensorFromSentence(lang, sentence):\n",
        "    indexes = indexesFromSentence(lang, sentence)\n",
        "    indexes.append(EOS_token)\n",
        "    return torch.tensor(indexes, dtype=torch.long, device=device).view(-1, 1) #[[2], [25], [9]....]の形に\n",
        "\n",
        "\n",
        "def tensorsFromPair(pair):\n",
        "    #pairは各文(0がフランス)\n",
        "    input_tensor = tensorFromSentence(input_lang, pair[0])\n",
        "    target_tensor = tensorFromSentence(output_lang, pair[1])\n",
        "    return (input_tensor, target_tensor)"
      ],
      "execution_count": 0,
      "outputs": []
    },
    {
      "cell_type": "code",
      "metadata": {
        "id": "_opR5HZav0qq",
        "colab_type": "code",
        "outputId": "7ba2a2fd-0068-4f36-f47f-fa3eb4230645",
        "colab": {
          "base_uri": "https://localhost:8080/",
          "height": 476
        }
      },
      "source": [
        "training_pairs = [tensorsFromPair(random.choice(pairs))\n",
        "                      for i in range(2)]\n",
        "training_pairs"
      ],
      "execution_count": 104,
      "outputs": [
        {
          "output_type": "execute_result",
          "data": {
            "text/plain": [
              "[(tensor([[   6],\n",
              "          [2678],\n",
              "          [  66],\n",
              "          [3690],\n",
              "          [   5],\n",
              "          [   1]], device='cuda:0'), tensor([[   2],\n",
              "          [  16],\n",
              "          [ 784],\n",
              "          [ 739],\n",
              "          [ 246],\n",
              "          [2297],\n",
              "          [   4],\n",
              "          [   1]], device='cuda:0')), (tensor([[   6],\n",
              "          [  11],\n",
              "          [  14],\n",
              "          [ 100],\n",
              "          [ 233],\n",
              "          [2361],\n",
              "          [ 194],\n",
              "          [2360],\n",
              "          [   5],\n",
              "          [   1]], device='cuda:0'), tensor([[   2],\n",
              "          [   3],\n",
              "          [1370],\n",
              "          [1371],\n",
              "          [   4],\n",
              "          [   1]], device='cuda:0'))]"
            ]
          },
          "metadata": {
            "tags": []
          },
          "execution_count": 104
        }
      ]
    },
    {
      "cell_type": "code",
      "metadata": {
        "id": "qYx2e6evK1fR",
        "colab_type": "code",
        "outputId": "93ac5724-7550-4595-80cc-f83e612d9286",
        "colab": {
          "base_uri": "https://localhost:8080/",
          "height": 34
        }
      },
      "source": [
        "training_pairs[0][0].shape"
      ],
      "execution_count": 105,
      "outputs": [
        {
          "output_type": "execute_result",
          "data": {
            "text/plain": [
              "torch.Size([6, 1])"
            ]
          },
          "metadata": {
            "tags": []
          },
          "execution_count": 105
        }
      ]
    },
    {
      "cell_type": "code",
      "metadata": {
        "id": "gfdUee7CM2aA",
        "colab_type": "code",
        "colab": {}
      },
      "source": [
        "teacher_forcing_ratio = 0.5\n",
        " \n",
        " \n",
        "def train(input_tensor, target_tensor, encoder, decoder, encoder_optimizer, decoder_optimizer, criterion, max_length=MAX_LENGTH):\n",
        "    encoder_hidden1 = encoder.initHidden()\n",
        "    encoder_hidden2 = encoder.initHidden()\n",
        " \n",
        "    encoder_optimizer.zero_grad()\n",
        "    decoder_optimizer.zero_grad()\n",
        " \n",
        "    input_length = input_tensor.size(0)\n",
        "    target_length = target_tensor.size(0)\n",
        " \n",
        "    encoder_outputs = torch.zeros(max_length, encoder.hidden_size, device=device)\n",
        " \n",
        "    loss = 0\n",
        "    #input_tensorは[その文の単語数, 1]のテンソル、つまり1文のデータ\n",
        "    for ei in range(input_length):\n",
        "        #1文字のindexと隠れ状態を入れていく\n",
        "        #input_tensor[ei]:[1], encoder_hidden:[1,1,256]\n",
        "        encoder_output, encoder_hidden1, encoder_hidden2 = encoder(\n",
        "            input_tensor[ei], encoder_hidden1, encoder_hidden2)\n",
        "        #encoder_output:[1,1,256], encoder_hidden:[1,1,256]\n",
        "        encoder_outputs[ei] = encoder_output[0, 0]\n",
        " \n",
        "    decoder_input = torch.tensor([[SOS_token]], device=device)\n",
        " \n",
        "    decoder_hidden1 = encoder_hidden1\n",
        "    decoder_hidden2 = encoder_hidden2\n",
        " \n",
        "    use_teacher_forcing = True if random.random() < teacher_forcing_ratio else False\n",
        "\n",
        "    if use_teacher_forcing:\n",
        "        # Teacher forcing: Feed the target as the next input\n",
        "        for di in range(target_length):\n",
        "            #decoder_input:[1], decoder_hidden:[1,1,256], encoder_outputs:[10,256]\n",
        "            decoder_output, decoder_hidden, decoder_attention = decoder(\n",
        "                decoder_input, decoder_hidden1, decoder_hidden2, encoder_outputs)\n",
        "            #decoder_output:[1,2803], decoder_hidden:[1,1,256], decoder_attention:[1,10]\n",
        "            loss += criterion(decoder_output, target_tensor[di])\n",
        "            decoder_input = target_tensor[di]  # Teacher forcing\n",
        " \n",
        "    else:\n",
        "        # Without teacher forcing: use its own predictions as the next input\n",
        "        for di in range(target_length):\n",
        "            decoder_output, decoder_hidden, decoder_attention = decoder(\n",
        "                decoder_input, decoder_hidden1, decoder_hidden2, encoder_outputs)\n",
        "            topv, topi = decoder_output.topk(1)\n",
        "            decoder_input = topi.squeeze().detach()  # detach from history as input\n",
        " \n",
        "            loss += criterion(decoder_output, target_tensor[di])\n",
        "            if decoder_input.item() == EOS_token:\n",
        "                break\n",
        " \n",
        "    loss.backward()\n",
        " \n",
        "    encoder_optimizer.step()\n",
        "    decoder_optimizer.step()\n",
        " \n",
        "    return loss.item() / target_length"
      ],
      "execution_count": 0,
      "outputs": []
    },
    {
      "cell_type": "code",
      "metadata": {
        "id": "k6iiyBzryOyb",
        "colab_type": "code",
        "colab": {}
      },
      "source": [
        "import time\n",
        "import math\n",
        " \n",
        " \n",
        "def asMinutes(s):\n",
        "    m = math.floor(s / 60)\n",
        "    s -= m * 60\n",
        "    return '%dm %ds' % (m, s)\n",
        " \n",
        " \n",
        "def timeSince(since, percent):\n",
        "    now = time.time()\n",
        "    s = now - since\n",
        "    es = s / (percent)\n",
        "    rs = es - s\n",
        "    return '%s (- %s)' % (asMinutes(s), asMinutes(rs))"
      ],
      "execution_count": 0,
      "outputs": []
    },
    {
      "cell_type": "code",
      "metadata": {
        "id": "RXjfOstSyX5i",
        "colab_type": "code",
        "colab": {}
      },
      "source": [
        "def trainIters(encoder, decoder, n_iters, print_every=1000, plot_every=100, learning_rate=0.01):\n",
        "    start = time.time()\n",
        "    plot_losses = []\n",
        "    print_loss_total = 0  # Reset every print_every\n",
        "    plot_loss_total = 0  # Reset every plot_every\n",
        " \n",
        "    encoder_optimizer = optim.SGD(encoder.parameters(), lr=learning_rate)\n",
        "    decoder_optimizer = optim.SGD(decoder.parameters(), lr=learning_rate)\n",
        "    training_pairs = [tensorsFromPair(random.choice(pairs))\n",
        "                      for i in range(n_iters)]\n",
        "    criterion = nn.NLLLoss()\n",
        " \n",
        "    for iter in range(1, n_iters + 1):\n",
        "        training_pair = training_pairs[iter - 1]\n",
        "        input_tensor = training_pair[0]\n",
        "        target_tensor = training_pair[1]\n",
        " \n",
        "        loss = train(input_tensor, target_tensor, encoder,\n",
        "                     decoder, encoder_optimizer, decoder_optimizer, criterion)\n",
        "        print_loss_total += loss\n",
        "        plot_loss_total += loss\n",
        " \n",
        "        if iter % print_every == 0:\n",
        "            print_loss_avg = print_loss_total / print_every\n",
        "            print_loss_total = 0\n",
        "            print('%s (%d %d%%) %.4f' % (timeSince(start, iter / n_iters),\n",
        "                                         iter, iter / n_iters * 100, print_loss_avg))\n",
        " \n",
        "        if iter % plot_every == 0:\n",
        "            plot_loss_avg = plot_loss_total / plot_every\n",
        "            plot_losses.append(plot_loss_avg)\n",
        "            plot_loss_total = 0\n",
        " \n",
        "    showPlot(plot_losses)"
      ],
      "execution_count": 0,
      "outputs": []
    },
    {
      "cell_type": "code",
      "metadata": {
        "id": "6dA-_IJrybEt",
        "colab_type": "code",
        "colab": {}
      },
      "source": [
        "import matplotlib.pyplot as plt\n",
        "plt.switch_backend('agg')\n",
        "import matplotlib.ticker as ticker\n",
        "import numpy as np\n",
        " \n",
        " \n",
        "def showPlot(points):\n",
        "    plt.figure()\n",
        "    fig, ax = plt.subplots()\n",
        "    # this locator puts ticks at regular intervals\n",
        "    loc = ticker.MultipleLocator(base=0.2)\n",
        "    ax.yaxis.set_major_locator(loc)\n",
        "    plt.plot(points)"
      ],
      "execution_count": 0,
      "outputs": []
    },
    {
      "cell_type": "code",
      "metadata": {
        "id": "9OlIZhEByelb",
        "colab_type": "code",
        "colab": {}
      },
      "source": [
        "def evaluate(encoder, decoder, sentence, max_length=MAX_LENGTH):\n",
        "    with torch.no_grad():\n",
        "        input_tensor = tensorFromSentence(input_lang, sentence)\n",
        "        input_length = input_tensor.size()[0]\n",
        "        encoder_hidden1 = encoder.initHidden()\n",
        "        encoder_hidden2 = encoder.initHidden()\n",
        " \n",
        "        encoder_outputs = torch.zeros(max_length, encoder.hidden_size, device=device)\n",
        " \n",
        "        for ei in range(input_length):\n",
        "            encoder_output, encoder_hidden1, encoder_hidden2 = encoder(input_tensor[ei],\n",
        "                                                     encoder_hidden1, encoder_hidden２)\n",
        "            encoder_outputs[ei] += encoder_output[0, 0]\n",
        " \n",
        "        decoder_input = torch.tensor([[SOS_token]], device=device)  # SOS\n",
        " \n",
        "        decoder_hidden1 = encoder_hidden1\n",
        "        decoder_hidden2 = encoder_hidden2\n",
        " \n",
        "        decoded_words = []\n",
        "        decoder_attentions = torch.zeros(max_length, max_length)\n",
        " \n",
        "        for di in range(max_length):\n",
        "            decoder_output, decoder_hidden, decoder_attention = decoder(\n",
        "                decoder_input, decoder_hidden1, decoder_hidden2, encoder_outputs)\n",
        "            decoder_attentions[di] = decoder_attention.data\n",
        "            topv, topi = decoder_output.data.topk(1)\n",
        "            if topi.item() == EOS_token:\n",
        "                decoded_words.append('<eos>')\n",
        "                break\n",
        "            else:\n",
        "                decoded_words.append(output_lang.index2word[topi.item()])\n",
        " \n",
        "            decoder_input = topi.squeeze().detach()\n",
        " \n",
        "        return decoded_words, decoder_attentions[:di + 1]"
      ],
      "execution_count": 0,
      "outputs": []
    },
    {
      "cell_type": "code",
      "metadata": {
        "id": "Q4hJQgwhyjiK",
        "colab_type": "code",
        "colab": {}
      },
      "source": [
        "def evaluateRandomly(encoder, decoder, n=10):\n",
        "    for i in range(n):\n",
        "        pair = random.choice(pairs)\n",
        "        print('>', pair[0])\n",
        "        print('=', pair[1])\n",
        "        output_words, attentions = evaluate(encoder, decoder, pair[0])\n",
        "        output_sentence = ' '.join(output_words)\n",
        "        print('<', output_sentence)\n",
        "        print('')"
      ],
      "execution_count": 0,
      "outputs": []
    },
    {
      "cell_type": "code",
      "metadata": {
        "id": "Tcl2ACYjHHXi",
        "colab_type": "code",
        "outputId": "c78b89ea-68a4-4f99-922c-98bfcff57344",
        "colab": {
          "base_uri": "https://localhost:8080/",
          "height": 34
        }
      },
      "source": [
        "output_lang.n_words"
      ],
      "execution_count": 112,
      "outputs": [
        {
          "output_type": "execute_result",
          "data": {
            "text/plain": [
              "2803"
            ]
          },
          "metadata": {
            "tags": []
          },
          "execution_count": 112
        }
      ]
    },
    {
      "cell_type": "code",
      "metadata": {
        "id": "ol24ChcGyman",
        "colab_type": "code",
        "outputId": "5c33710b-ef52-4544-81a5-a4acc83435aa",
        "colab": {
          "base_uri": "https://localhost:8080/",
          "height": 272
        }
      },
      "source": [
        "hidden_size = 256\n",
        "encoder1 = EncoderRNN(input_lang.n_words, hidden_size).to(device)\n",
        "attn_decoder1 = AttnDecoderRNN(hidden_size, output_lang.n_words, dropout_p=0.1).to(device)\n",
        "\n",
        "trainIters(encoder1, attn_decoder1, 75000, print_every=5000)"
      ],
      "execution_count": 113,
      "outputs": [
        {
          "output_type": "stream",
          "text": [
            "1m 49s (- 25m 27s) (5000 6%) 2.7963\n",
            "3m 35s (- 23m 23s) (10000 13%) 2.3174\n",
            "5m 24s (- 21m 38s) (15000 20%) 2.0608\n",
            "7m 13s (- 19m 53s) (20000 26%) 1.8263\n",
            "9m 3s (- 18m 7s) (25000 33%) 1.6327\n",
            "10m 54s (- 16m 21s) (30000 40%) 1.4666\n",
            "12m 45s (- 14m 35s) (35000 46%) 1.3519\n",
            "14m 36s (- 12m 47s) (40000 53%) 1.1859\n",
            "16m 27s (- 10m 58s) (45000 60%) 1.0783\n",
            "18m 19s (- 9m 9s) (50000 66%) 0.9360\n",
            "20m 13s (- 7m 21s) (55000 73%) 0.8744\n",
            "22m 6s (- 5m 31s) (60000 80%) 0.8061\n",
            "23m 59s (- 3m 41s) (65000 86%) 0.7137\n",
            "25m 52s (- 1m 50s) (70000 93%) 0.6521\n",
            "27m 44s (- 0m 0s) (75000 100%) 0.5839\n"
          ],
          "name": "stdout"
        }
      ]
    },
    {
      "cell_type": "code",
      "metadata": {
        "id": "zU9ar90Tz_2v",
        "colab_type": "code",
        "colab": {
          "base_uri": "https://localhost:8080/",
          "height": 697
        },
        "outputId": "5dc9d85b-9823-4e3a-ede3-ae7fb284180d"
      },
      "source": [
        "evaluateRandomly(encoder1, attn_decoder1)"
      ],
      "execution_count": 114,
      "outputs": [
        {
          "output_type": "stream",
          "text": [
            "> vous etes tout a fait attirant .\n",
            "= you re quite attractive .\n",
            "< you re quite attractive . <eos>\n",
            "\n",
            "> ce sont tous des menteurs .\n",
            "= they re all liars .\n",
            "< they re all liars . <eos>\n",
            "\n",
            "> vous n etes pas millionnaire .\n",
            "= you re not a millionaire .\n",
            "< you re not a millionaire . <eos>\n",
            "\n",
            "> je suis contente d etre partie de boston .\n",
            "= i m glad i left boston .\n",
            "< i boston . <eos>\n",
            "\n",
            "> ce n est rien qu une enfant .\n",
            "= she is nothing but a child .\n",
            "< she is nothing but a child . <eos>\n",
            "\n",
            "> j en ai marre de ce temps humide .\n",
            "= i m fed up with this wet weather .\n",
            "< i am fed up with this wet weather . <eos>\n",
            "\n",
            "> je ne suis jamais libre le dimanche .\n",
            "= i am never free on sundays .\n",
            "< i am never on sundays . <eos>\n",
            "\n",
            "> nous ne sommes pas apparentees .\n",
            "= we re unrelated .\n",
            "< we re not related . <eos>\n",
            "\n",
            "> vous etes tres efficace .\n",
            "= you re very efficient .\n",
            "< you re very efficient . <eos>\n",
            "\n",
            "> vous etes l instituteur .\n",
            "= you re the teacher .\n",
            "< you re the teacher . <eos>\n",
            "\n"
          ],
          "name": "stdout"
        }
      ]
    },
    {
      "cell_type": "code",
      "metadata": {
        "id": "5bNNIVFcOqPT",
        "colab_type": "code",
        "colab": {
          "base_uri": "https://localhost:8080/",
          "height": 51
        },
        "outputId": "b78f8373-6642-4cfe-92e4-7dc5af39c452"
      },
      "source": [
        "def showAttention(input_sentence, output_words, attentions):\n",
        "    # Set up figure with colorbar\n",
        "    fig = plt.figure()\n",
        "    ax = fig.add_subplot(111)\n",
        "    cax = ax.matshow(attentions.numpy(), cmap='bone')\n",
        "    fig.colorbar(cax)\n",
        " \n",
        "    # Set up axes\n",
        "    ax.set_xticklabels([''] + input_sentence.split(' ') +\n",
        "                       ['<eos>'], rotation=90)\n",
        "    ax.set_yticklabels([''] + output_words)\n",
        " \n",
        "    # Show label at every tick\n",
        "    ax.xaxis.set_major_locator(ticker.MultipleLocator(1))\n",
        "    ax.yaxis.set_major_locator(ticker.MultipleLocator(1))\n",
        " \n",
        "    plt.show()\n",
        " \n",
        " \n",
        "def evaluateAndShowAttention(input_sentence):\n",
        "    output_words, attentions = evaluate(\n",
        "        encoder1, attn_decoder1, input_sentence)\n",
        "    print('input =', input_sentence)\n",
        "    print('output =', ' '.join(output_words))\n",
        "    showAttention(input_sentence, output_words, attentions)\n",
        " \n",
        " \n",
        "evaluateAndShowAttention(\"elle a cinq ans de moins que moi .\")\n",
        " \n",
        "#evaluateAndShowAttention(\"elle est trop petit .\")\n",
        " \n",
        "#evaluateAndShowAttention(\"je ne crains pas de mourir .\")\n",
        " \n",
        "#evaluateAndShowAttention(\"c est un jeune directeur plein de talent .\")"
      ],
      "execution_count": 115,
      "outputs": [
        {
          "output_type": "stream",
          "text": [
            "input = elle a cinq ans de moins que moi .\n",
            "output = she s five years younger than me . <eos>\n"
          ],
          "name": "stdout"
        }
      ]
    },
    {
      "cell_type": "code",
      "metadata": {
        "id": "mnunb62fPk0v",
        "colab_type": "code",
        "colab": {}
      },
      "source": [
        ""
      ],
      "execution_count": 0,
      "outputs": []
    }
  ]
}